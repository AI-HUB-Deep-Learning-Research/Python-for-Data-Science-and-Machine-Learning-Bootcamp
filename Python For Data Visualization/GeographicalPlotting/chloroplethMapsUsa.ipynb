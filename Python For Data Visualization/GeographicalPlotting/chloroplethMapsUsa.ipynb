{
 "cells": [
  {
   "cell_type": "code",
   "execution_count": 12,
   "metadata": {},
   "outputs": [],
   "source": [
    "import plotly.plotly as py\n",
    "import plotly.graph_objs as go\n"
   ]
  },
  {
   "cell_type": "code",
   "execution_count": 3,
   "metadata": {},
   "outputs": [],
   "source": [
    "#to use it offline\n",
    "from plotly.offline import download_plotlyjs, init_notebook_mode, plot, iplot"
   ]
  },
  {
   "cell_type": "code",
   "execution_count": 4,
   "metadata": {},
   "outputs": [
    {
     "data": {
      "text/html": [
       "<script type=\"text/javascript\">window.PlotlyConfig = {MathJaxConfig: 'local'};</script><script type=\"text/javascript\">if (window.MathJax) {MathJax.Hub.Config({SVG: {font: \"STIX-Web\"}});}</script><script>requirejs.config({paths: { 'plotly': ['https://cdn.plot.ly/plotly-latest.min']},});if(!window._Plotly) {require(['plotly'],function(plotly) {window._Plotly=plotly;});}</script>"
      ],
      "text/vnd.plotly.v1+html": [
       "<script type=\"text/javascript\">window.PlotlyConfig = {MathJaxConfig: 'local'};</script><script type=\"text/javascript\">if (window.MathJax) {MathJax.Hub.Config({SVG: {font: \"STIX-Web\"}});}</script><script>requirejs.config({paths: { 'plotly': ['https://cdn.plot.ly/plotly-latest.min']},});if(!window._Plotly) {require(['plotly'],function(plotly) {window._Plotly=plotly;});}</script>"
      ]
     },
     "metadata": {},
     "output_type": "display_data"
    }
   ],
   "source": [
    "init_notebook_mode(connected=True)"
   ]
  },
  {
   "cell_type": "code",
   "execution_count": 41,
   "metadata": {},
   "outputs": [],
   "source": [
    "data = dict(type = 'choropleth',\n",
    "            locations = ['AZ','CA','NY'],\n",
    "            locationmode = 'USA-states',\n",
    "            #color can also be jet, greens\n",
    "            colorscale = 'Portland',\n",
    "            text = ['text 1','text 2','text 3'],\n",
    "            z = [1.0,2.0,3.0],\n",
    "            colorbar = {'title':'Color title goes here'})"
   ]
  },
  {
   "cell_type": "code",
   "execution_count": 42,
   "metadata": {},
   "outputs": [
    {
     "data": {
      "text/plain": [
       "{'type': 'choropleth',\n",
       " 'locations': ['AZ', 'CA', 'NY'],\n",
       " 'locationmode': 'USA-states',\n",
       " 'colorscale': 'Portland',\n",
       " 'text': ['text 1', 'text 2', 'text 3'],\n",
       " 'z': [1.0, 2.0, 3.0],\n",
       " 'colorbar': {'title': 'Color title goes here'}}"
      ]
     },
     "execution_count": 42,
     "metadata": {},
     "output_type": "execute_result"
    }
   ],
   "source": [
    "data"
   ]
  },
  {
   "cell_type": "code",
   "execution_count": 43,
   "metadata": {},
   "outputs": [],
   "source": [
    "#nested dictionary\n",
    "layout = dict(geo={'scope':'usa'})"
   ]
  },
  {
   "cell_type": "code",
   "execution_count": 44,
   "metadata": {},
   "outputs": [],
   "source": [
    "#passing dict in a list\n",
    "choromap = go.Figure(data = [data], layout=layout)"
   ]
  },
  {
   "cell_type": "code",
   "execution_count": 34,
   "metadata": {},
   "outputs": [
    {
     "data": {
      "application/vnd.plotly.v1+json": {
       "data": [
        {
         "colorbar": {
          "title": "Color title goes here"
         },
         "colorscale": "Portland",
         "locationmode": "USA-states",
         "locations": [
          "AZ",
          "CA",
          "NY"
         ],
         "text": [
          "text 1",
          "text 2",
          "text 3"
         ],
         "type": "choropleth",
         "uid": "96dc2be6-6fd8-4bd2-b83f-4d4f676467e1",
         "z": [
          1,
          2,
          3
         ]
        }
       ],
       "layout": {
        "geo": {
         "scope": "usa"
        }
       }
      },
      "text/html": [
       "<div id=\"5e0abe69-5414-4775-bd7e-eaccfc584c00\" style=\"height: 525px; width: 100%;\" class=\"plotly-graph-div\"></div><script type=\"text/javascript\">require([\"plotly\"], function(Plotly) { window.PLOTLYENV=window.PLOTLYENV || {};window.PLOTLYENV.BASE_URL=\"https://plot.ly\";Plotly.newPlot(\"5e0abe69-5414-4775-bd7e-eaccfc584c00\", [{\"colorbar\": {\"title\": \"Color title goes here\"}, \"colorscale\": \"Portland\", \"locationmode\": \"USA-states\", \"locations\": [\"AZ\", \"CA\", \"NY\"], \"text\": [\"text 1\", \"text 2\", \"text 3\"], \"z\": [1.0, 2.0, 3.0], \"type\": \"choropleth\", \"uid\": \"96dc2be6-6fd8-4bd2-b83f-4d4f676467e1\"}], {\"geo\": {\"scope\": \"usa\"}}, {\"showLink\": true, \"linkText\": \"Export to plot.ly\"})});</script><script type=\"text/javascript\">window.addEventListener(\"resize\", function(){window._Plotly.Plots.resize(document.getElementById(\"5e0abe69-5414-4775-bd7e-eaccfc584c00\"));});</script>"
      ],
      "text/vnd.plotly.v1+html": [
       "<div id=\"5e0abe69-5414-4775-bd7e-eaccfc584c00\" style=\"height: 525px; width: 100%;\" class=\"plotly-graph-div\"></div><script type=\"text/javascript\">require([\"plotly\"], function(Plotly) { window.PLOTLYENV=window.PLOTLYENV || {};window.PLOTLYENV.BASE_URL=\"https://plot.ly\";Plotly.newPlot(\"5e0abe69-5414-4775-bd7e-eaccfc584c00\", [{\"colorbar\": {\"title\": \"Color title goes here\"}, \"colorscale\": \"Portland\", \"locationmode\": \"USA-states\", \"locations\": [\"AZ\", \"CA\", \"NY\"], \"text\": [\"text 1\", \"text 2\", \"text 3\"], \"z\": [1.0, 2.0, 3.0], \"type\": \"choropleth\", \"uid\": \"96dc2be6-6fd8-4bd2-b83f-4d4f676467e1\"}], {\"geo\": {\"scope\": \"usa\"}}, {\"showLink\": true, \"linkText\": \"Export to plot.ly\"})});</script><script type=\"text/javascript\">window.addEventListener(\"resize\", function(){window._Plotly.Plots.resize(document.getElementById(\"5e0abe69-5414-4775-bd7e-eaccfc584c00\"));});</script>"
      ]
     },
     "metadata": {},
     "output_type": "display_data"
    },
    {
     "name": "stdout",
     "output_type": "stream",
     "text": [
      "None\n"
     ]
    }
   ],
   "source": [
    "print(iplot(choromap))"
   ]
  },
  {
   "cell_type": "code",
   "execution_count": 35,
   "metadata": {},
   "outputs": [
    {
     "data": {
      "text/plain": [
       "'file://G:\\\\github\\\\Python-for-Data-Science-and-Machine-Learning-Bootcamp\\\\Python For Data Visualization\\\\GeographicalPlotting\\\\temp-plot.html'"
      ]
     },
     "execution_count": 35,
     "metadata": {},
     "output_type": "execute_result"
    }
   ],
   "source": [
    "plot(choromap)"
   ]
  },
  {
   "cell_type": "code",
   "execution_count": 52,
   "metadata": {},
   "outputs": [],
   "source": [
    "data1 = dict(type = 'choropleth',\n",
    "            locations = ['AZ','CA','NY','LA'],\n",
    "            locationmode = 'USA-states',\n",
    "            #color can also be jet, greens, Portland\n",
    "            colorscale = 'Rainbow',\n",
    "            text = ['Arizona','California','NewYork','Las Vegas'],\n",
    "            z = [1.0,2.0,3.0,4.0],\n",
    "            colorbar = {'title':'Color title goes here'})"
   ]
  },
  {
   "cell_type": "code",
   "execution_count": 53,
   "metadata": {},
   "outputs": [],
   "source": [
    "#passing dict in a list\n",
    "choromap1 = go.Figure(data = [data1], layout=layout)"
   ]
  },
  {
   "cell_type": "code",
   "execution_count": 55,
   "metadata": {},
   "outputs": [
    {
     "data": {
      "application/vnd.plotly.v1+json": {
       "data": [
        {
         "colorbar": {
          "title": "Color title goes here"
         },
         "colorscale": "Rainbow",
         "locationmode": "USA-states",
         "locations": [
          "AZ",
          "CA",
          "NY",
          "LA"
         ],
         "text": [
          "Arizona",
          "California",
          "NewYork",
          "Las Vegas"
         ],
         "type": "choropleth",
         "uid": "5862fbf0-0a18-43e1-8d99-96cf30af2f87",
         "z": [
          1,
          2,
          3,
          4
         ]
        }
       ],
       "layout": {
        "geo": {
         "scope": "usa"
        }
       }
      },
      "text/html": [
       "<div id=\"a799a973-c1ef-40f0-b388-b67b5ca134de\" style=\"height: 525px; width: 100%;\" class=\"plotly-graph-div\"></div><script type=\"text/javascript\">require([\"plotly\"], function(Plotly) { window.PLOTLYENV=window.PLOTLYENV || {};window.PLOTLYENV.BASE_URL=\"https://plot.ly\";Plotly.newPlot(\"a799a973-c1ef-40f0-b388-b67b5ca134de\", [{\"colorbar\": {\"title\": \"Color title goes here\"}, \"colorscale\": \"Rainbow\", \"locationmode\": \"USA-states\", \"locations\": [\"AZ\", \"CA\", \"NY\", \"LA\"], \"text\": [\"Arizona\", \"California\", \"NewYork\", \"Las Vegas\"], \"z\": [1.0, 2.0, 3.0, 4.0], \"type\": \"choropleth\", \"uid\": \"5862fbf0-0a18-43e1-8d99-96cf30af2f87\"}], {\"geo\": {\"scope\": \"usa\"}}, {\"showLink\": true, \"linkText\": \"Export to plot.ly\"})});</script><script type=\"text/javascript\">window.addEventListener(\"resize\", function(){window._Plotly.Plots.resize(document.getElementById(\"a799a973-c1ef-40f0-b388-b67b5ca134de\"));});</script>"
      ],
      "text/vnd.plotly.v1+html": [
       "<div id=\"a799a973-c1ef-40f0-b388-b67b5ca134de\" style=\"height: 525px; width: 100%;\" class=\"plotly-graph-div\"></div><script type=\"text/javascript\">require([\"plotly\"], function(Plotly) { window.PLOTLYENV=window.PLOTLYENV || {};window.PLOTLYENV.BASE_URL=\"https://plot.ly\";Plotly.newPlot(\"a799a973-c1ef-40f0-b388-b67b5ca134de\", [{\"colorbar\": {\"title\": \"Color title goes here\"}, \"colorscale\": \"Rainbow\", \"locationmode\": \"USA-states\", \"locations\": [\"AZ\", \"CA\", \"NY\", \"LA\"], \"text\": [\"Arizona\", \"California\", \"NewYork\", \"Las Vegas\"], \"z\": [1.0, 2.0, 3.0, 4.0], \"type\": \"choropleth\", \"uid\": \"5862fbf0-0a18-43e1-8d99-96cf30af2f87\"}], {\"geo\": {\"scope\": \"usa\"}}, {\"showLink\": true, \"linkText\": \"Export to plot.ly\"})});</script><script type=\"text/javascript\">window.addEventListener(\"resize\", function(){window._Plotly.Plots.resize(document.getElementById(\"a799a973-c1ef-40f0-b388-b67b5ca134de\"));});</script>"
      ]
     },
     "metadata": {},
     "output_type": "display_data"
    }
   ],
   "source": [
    "iplot(choromap1)"
   ]
  },
  {
   "cell_type": "code",
   "execution_count": null,
   "metadata": {},
   "outputs": [],
   "source": []
  },
  {
   "cell_type": "code",
   "execution_count": null,
   "metadata": {},
   "outputs": [],
   "source": []
  }
 ],
 "metadata": {
  "kernelspec": {
   "display_name": "Python 3",
   "language": "python",
   "name": "python3"
  },
  "language_info": {
   "codemirror_mode": {
    "name": "ipython",
    "version": 3
   },
   "file_extension": ".py",
   "mimetype": "text/x-python",
   "name": "python",
   "nbconvert_exporter": "python",
   "pygments_lexer": "ipython3",
   "version": "3.6.5"
  }
 },
 "nbformat": 4,
 "nbformat_minor": 2
}
